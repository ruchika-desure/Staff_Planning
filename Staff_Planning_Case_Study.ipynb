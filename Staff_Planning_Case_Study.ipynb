{
 "cells": [
  {
   "cell_type": "code",
   "execution_count": 1,
   "metadata": {},
   "outputs": [],
   "source": [
    "# Importing Libraries \n",
    "\n",
    "import pandas as pd\n",
    "import numpy as np\n",
    "import math\n",
    "from pyomo.environ import *"
   ]
  },
  {
   "cell_type": "code",
   "execution_count": 2,
   "metadata": {},
   "outputs": [],
   "source": [
    "from __future__ import division\n",
    "from pyomo.opt import SolverFactory"
   ]
  },
  {
   "cell_type": "code",
   "execution_count": 3,
   "metadata": {},
   "outputs": [
    {
     "data": {
      "text/plain": [
       "'Staffing+Data.xlsx'"
      ]
     },
     "execution_count": 3,
     "metadata": {},
     "output_type": "execute_result"
    }
   ],
   "source": [
    "# Storing the datafile name in 'InputDataFile'.\n",
    "InputDataFile = \"Staffing+Data.xlsx\"\n",
    "InputDataFile"
   ]
  },
  {
   "cell_type": "code",
   "execution_count": 4,
   "metadata": {},
   "outputs": [],
   "source": [
    "# Reading the data from Excel workbook  and storing it in respective dataframes\n",
    "\n",
    "Staff_Avail = pd.read_excel(InputDataFile, sheet_name=\"StaffAvailability\")\n",
    "Cost = pd.read_excel(InputDataFile, sheet_name=\"Cost\")\n",
    "Trans_Cost = pd.read_excel(InputDataFile, sheet_name=\"ServiceRate\")\n",
    "Mg_Demand_Dist = pd.read_excel(InputDataFile, sheet_name=\"DemandData\")\n"
   ]
  },
  {
   "cell_type": "code",
   "execution_count": 5,
   "metadata": {},
   "outputs": [
    {
     "data": {
      "text/html": [
       "<div>\n",
       "<style scoped>\n",
       "    .dataframe tbody tr th:only-of-type {\n",
       "        vertical-align: middle;\n",
       "    }\n",
       "\n",
       "    .dataframe tbody tr th {\n",
       "        vertical-align: top;\n",
       "    }\n",
       "\n",
       "    .dataframe thead th {\n",
       "        text-align: right;\n",
       "    }\n",
       "</style>\n",
       "<table border=\"1\" class=\"dataframe\">\n",
       "  <thead>\n",
       "    <tr style=\"text-align: right;\">\n",
       "      <th></th>\n",
       "      <th>State</th>\n",
       "      <th>Month</th>\n",
       "      <th>LB</th>\n",
       "      <th>UB</th>\n",
       "      <th>StaffAvPer</th>\n",
       "    </tr>\n",
       "  </thead>\n",
       "  <tbody>\n",
       "    <tr>\n",
       "      <th>0</th>\n",
       "      <td>A</td>\n",
       "      <td>Jan</td>\n",
       "      <td>0.70</td>\n",
       "      <td>0.90</td>\n",
       "      <td>0.81</td>\n",
       "    </tr>\n",
       "    <tr>\n",
       "      <th>1</th>\n",
       "      <td>A</td>\n",
       "      <td>Feb</td>\n",
       "      <td>0.65</td>\n",
       "      <td>0.85</td>\n",
       "      <td>0.76</td>\n",
       "    </tr>\n",
       "    <tr>\n",
       "      <th>2</th>\n",
       "      <td>A</td>\n",
       "      <td>Mar</td>\n",
       "      <td>0.70</td>\n",
       "      <td>0.80</td>\n",
       "      <td>0.75</td>\n",
       "    </tr>\n",
       "    <tr>\n",
       "      <th>3</th>\n",
       "      <td>A</td>\n",
       "      <td>Apr</td>\n",
       "      <td>0.75</td>\n",
       "      <td>0.85</td>\n",
       "      <td>0.80</td>\n",
       "    </tr>\n",
       "    <tr>\n",
       "      <th>4</th>\n",
       "      <td>A</td>\n",
       "      <td>May</td>\n",
       "      <td>0.70</td>\n",
       "      <td>0.85</td>\n",
       "      <td>0.78</td>\n",
       "    </tr>\n",
       "  </tbody>\n",
       "</table>\n",
       "</div>"
      ],
      "text/plain": [
       "  State Month    LB    UB  StaffAvPer\n",
       "0     A   Jan  0.70  0.90        0.81\n",
       "1     A   Feb  0.65  0.85        0.76\n",
       "2     A   Mar  0.70  0.80        0.75\n",
       "3     A   Apr  0.75  0.85        0.80\n",
       "4     A   May  0.70  0.85        0.78"
      ]
     },
     "execution_count": 5,
     "metadata": {},
     "output_type": "execute_result"
    }
   ],
   "source": [
    "# Checking 'Staff_Avail' dataframe\n",
    "Staff_Avail.head()"
   ]
  },
  {
   "cell_type": "markdown",
   "metadata": {},
   "source": [
    "## Data pre-processing "
   ]
  },
  {
   "cell_type": "code",
   "execution_count": 6,
   "metadata": {},
   "outputs": [],
   "source": [
    "# Create the required Python data structures for indexes and parameters\n",
    "\n",
    "# Converting each parameter to dictionary\n",
    "\n",
    "# Demand Data\n",
    "Demand = Mg_Demand_Dist.set_index(['State','Month'])['Demand'].to_dict()\n",
    "\n",
    "# FTE Salary from the data\n",
    "FTE_Monthly_Salary = Cost.set_index(['State','Month'])['MonthlySalary'].to_dict()\n",
    "\n",
    "# Unit Outsourcing Cost\n",
    "UnitOutSourcingCost = Cost.set_index(['State','Month'])['UnitOutSourceCost'].to_dict()\n",
    "\n",
    "# Number of Applications handled by an employee when he/she is working 100%\n",
    "FTE_AppServiceRate = Trans_Cost.iloc[0,0]\n",
    "\n",
    "# Staff Availability for serving the Insurance Applications\n",
    "Staff_Avail_LB = Staff_Avail.set_index(['State','Month'])['LB'].to_dict() # Worst Case\n",
    "Staff_Avail_UB = Staff_Avail.set_index(['State','Month'])['UB'].to_dict() # Best Case\n",
    "Staff_Avail_Per = Staff_Avail.set_index(['State','Month'])['StaffAvPer'].to_dict() # Actual Case\n",
    "\n",
    "\n",
    "# Indexes\n",
    "# Storing unique locations (i.e. States) in 'InsCom_Location'\n",
    "InsCom_Location = Cost['State'].unique()\n",
    "\n",
    "# Storing unique months in 'Month'\n",
    "Month = Cost['Month'].unique()"
   ]
  },
  {
   "cell_type": "code",
   "execution_count": 7,
   "metadata": {},
   "outputs": [
    {
     "data": {
      "text/plain": [
       "{('A', 'Jan'): 0.7,\n",
       " ('A', 'Feb'): 0.65,\n",
       " ('A', 'Mar'): 0.7,\n",
       " ('A', 'Apr'): 0.75,\n",
       " ('A', 'May'): 0.7,\n",
       " ('A', 'Jun'): 0.65,\n",
       " ('A', 'Jul'): 0.6,\n",
       " ('A', 'Aug'): 0.65,\n",
       " ('A', 'Sep'): 0.7,\n",
       " ('A', 'Oct'): 0.65,\n",
       " ('A', 'Nov'): 0.6,\n",
       " ('A', 'Dec'): 0.6,\n",
       " ('B', 'Jan'): 0.7,\n",
       " ('B', 'Feb'): 0.65,\n",
       " ('B', 'Mar'): 0.7,\n",
       " ('B', 'Apr'): 0.75,\n",
       " ('B', 'May'): 0.7,\n",
       " ('B', 'Jun'): 0.65,\n",
       " ('B', 'Jul'): 0.6,\n",
       " ('B', 'Aug'): 0.65,\n",
       " ('B', 'Sep'): 0.7,\n",
       " ('B', 'Oct'): 0.65,\n",
       " ('B', 'Nov'): 0.6,\n",
       " ('B', 'Dec'): 0.6,\n",
       " ('C', 'Jan'): 0.7,\n",
       " ('C', 'Feb'): 0.65,\n",
       " ('C', 'Mar'): 0.7,\n",
       " ('C', 'Apr'): 0.75,\n",
       " ('C', 'May'): 0.7,\n",
       " ('C', 'Jun'): 0.65,\n",
       " ('C', 'Jul'): 0.6,\n",
       " ('C', 'Aug'): 0.65,\n",
       " ('C', 'Sep'): 0.7,\n",
       " ('C', 'Oct'): 0.65,\n",
       " ('C', 'Nov'): 0.6,\n",
       " ('C', 'Dec'): 0.6}"
      ]
     },
     "execution_count": 7,
     "metadata": {},
     "output_type": "execute_result"
    }
   ],
   "source": [
    "# Checking Worst Case Staff Availability\n",
    "Staff_Avail_LB"
   ]
  },
  {
   "cell_type": "code",
   "execution_count": 8,
   "metadata": {},
   "outputs": [
    {
     "data": {
      "text/plain": [
       "{('A', 'Jan'): 0.9,\n",
       " ('A', 'Feb'): 0.85,\n",
       " ('A', 'Mar'): 0.8,\n",
       " ('A', 'Apr'): 0.85,\n",
       " ('A', 'May'): 0.85,\n",
       " ('A', 'Jun'): 0.8,\n",
       " ('A', 'Jul'): 0.75,\n",
       " ('A', 'Aug'): 0.85,\n",
       " ('A', 'Sep'): 0.9,\n",
       " ('A', 'Oct'): 0.8,\n",
       " ('A', 'Nov'): 0.75,\n",
       " ('A', 'Dec'): 0.7,\n",
       " ('B', 'Jan'): 0.9,\n",
       " ('B', 'Feb'): 0.85,\n",
       " ('B', 'Mar'): 0.8,\n",
       " ('B', 'Apr'): 0.85,\n",
       " ('B', 'May'): 0.85,\n",
       " ('B', 'Jun'): 0.8,\n",
       " ('B', 'Jul'): 0.75,\n",
       " ('B', 'Aug'): 0.85,\n",
       " ('B', 'Sep'): 0.9,\n",
       " ('B', 'Oct'): 0.8,\n",
       " ('B', 'Nov'): 0.75,\n",
       " ('B', 'Dec'): 0.7,\n",
       " ('C', 'Jan'): 0.9,\n",
       " ('C', 'Feb'): 0.85,\n",
       " ('C', 'Mar'): 0.8,\n",
       " ('C', 'Apr'): 0.85,\n",
       " ('C', 'May'): 0.85,\n",
       " ('C', 'Jun'): 0.8,\n",
       " ('C', 'Jul'): 0.75,\n",
       " ('C', 'Aug'): 0.85,\n",
       " ('C', 'Sep'): 0.9,\n",
       " ('C', 'Oct'): 0.8,\n",
       " ('C', 'Nov'): 0.75,\n",
       " ('C', 'Dec'): 0.7}"
      ]
     },
     "execution_count": 8,
     "metadata": {},
     "output_type": "execute_result"
    }
   ],
   "source": [
    "# Checking Best Case Staff Availability\n",
    "Staff_Avail_UB"
   ]
  },
  {
   "cell_type": "code",
   "execution_count": 9,
   "metadata": {},
   "outputs": [
    {
     "data": {
      "text/plain": [
       "{('A', 'Jan'): 0.81,\n",
       " ('A', 'Feb'): 0.76,\n",
       " ('A', 'Mar'): 0.75,\n",
       " ('A', 'Apr'): 0.8,\n",
       " ('A', 'May'): 0.78,\n",
       " ('A', 'Jun'): 0.73,\n",
       " ('A', 'Jul'): 0.68,\n",
       " ('A', 'Aug'): 0.76,\n",
       " ('A', 'Sep'): 0.81,\n",
       " ('A', 'Oct'): 0.73,\n",
       " ('A', 'Nov'): 0.68,\n",
       " ('A', 'Dec'): 0.65,\n",
       " ('B', 'Jan'): 0.81,\n",
       " ('B', 'Feb'): 0.76,\n",
       " ('B', 'Mar'): 0.75,\n",
       " ('B', 'Apr'): 0.8,\n",
       " ('B', 'May'): 0.78,\n",
       " ('B', 'Jun'): 0.73,\n",
       " ('B', 'Jul'): 0.68,\n",
       " ('B', 'Aug'): 0.76,\n",
       " ('B', 'Sep'): 0.81,\n",
       " ('B', 'Oct'): 0.73,\n",
       " ('B', 'Nov'): 0.68,\n",
       " ('B', 'Dec'): 0.65,\n",
       " ('C', 'Jan'): 0.81,\n",
       " ('C', 'Feb'): 0.76,\n",
       " ('C', 'Mar'): 0.75,\n",
       " ('C', 'Apr'): 0.8,\n",
       " ('C', 'May'): 0.78,\n",
       " ('C', 'Jun'): 0.73,\n",
       " ('C', 'Jul'): 0.68,\n",
       " ('C', 'Aug'): 0.76,\n",
       " ('C', 'Sep'): 0.81,\n",
       " ('C', 'Oct'): 0.73,\n",
       " ('C', 'Nov'): 0.68,\n",
       " ('C', 'Dec'): 0.65}"
      ]
     },
     "execution_count": 9,
     "metadata": {},
     "output_type": "execute_result"
    }
   ],
   "source": [
    "# Checking Actual Case Staff Availability\n",
    "Staff_Avail_Per"
   ]
  },
  {
   "cell_type": "code",
   "execution_count": 10,
   "metadata": {},
   "outputs": [
    {
     "data": {
      "text/plain": [
       "array(['A', 'B', 'C'], dtype=object)"
      ]
     },
     "execution_count": 10,
     "metadata": {},
     "output_type": "execute_result"
    }
   ],
   "source": [
    "# Displaying the locations\n",
    "InsCom_Location"
   ]
  },
  {
   "cell_type": "code",
   "execution_count": 11,
   "metadata": {},
   "outputs": [
    {
     "data": {
      "text/plain": [
       "['A', 'B', 'C']"
      ]
     },
     "execution_count": 11,
     "metadata": {},
     "output_type": "execute_result"
    }
   ],
   "source": [
    "# Converting InsCom_Location to list\n",
    "InsCom_Location.tolist()"
   ]
  },
  {
   "cell_type": "code",
   "execution_count": 12,
   "metadata": {},
   "outputs": [
    {
     "data": {
      "text/plain": [
       "array(['Jan', 'Feb', 'Mar', 'Apr', 'May', 'Jun', 'Jul', 'Aug', 'Sep',\n",
       "       'Oct', 'Nov', 'Dec'], dtype=object)"
      ]
     },
     "execution_count": 12,
     "metadata": {},
     "output_type": "execute_result"
    }
   ],
   "source": [
    "# Displaying the months\n",
    "Month"
   ]
  },
  {
   "cell_type": "markdown",
   "metadata": {},
   "source": [
    "# Question 1\n",
    "\n",
    "The company wants to know the optimised staffing recommendations for the business case described. \n",
    "Write the mathematical model for the deterministic optimisation problem. Define and explain your decision variables, objective function and the constraint. (Hint: Use months of the year as the model timeline).\n",
    "\n"
   ]
  },
  {
   "cell_type": "markdown",
   "metadata": {},
   "source": [
    "**Mathematical formulations are included in the report.**"
   ]
  },
  {
   "cell_type": "markdown",
   "metadata": {},
   "source": [
    "**Note:** You can write the mathematical formulation directly in your report."
   ]
  },
  {
   "cell_type": "markdown",
   "metadata": {},
   "source": [
    "# Question 2\n",
    "\n",
    "Code the problem is Python and use any optimization package to solve it. Add comments to your code to explain each step. "
   ]
  },
  {
   "cell_type": "markdown",
   "metadata": {},
   "source": [
    "#### Expected output:\n",
    "\n",
    "Create a data frame containing the number of outsourced applications  and the number of FTEs for each state-month combination. You can choose to have extra columns like staff availability, demand etc. in your dataframe apart from the ones mentioned earlier. "
   ]
  },
  {
   "cell_type": "code",
   "execution_count": 13,
   "metadata": {},
   "outputs": [],
   "source": [
    "# Creating a model instance\n",
    "model = ConcreteModel()"
   ]
  },
  {
   "cell_type": "code",
   "execution_count": 14,
   "metadata": {},
   "outputs": [],
   "source": [
    "# Define Pyomo sets and Parameters"
   ]
  },
  {
   "cell_type": "code",
   "execution_count": 15,
   "metadata": {},
   "outputs": [],
   "source": [
    "# Define Pyomo sets\n",
    "model.i = Set(initialize=InsCom_Location.tolist(), doc=\"States\")\n",
    "model.j = Set(initialize=Month.tolist(), doc=\"Months\")"
   ]
  },
  {
   "cell_type": "code",
   "execution_count": 16,
   "metadata": {},
   "outputs": [],
   "source": [
    "# Define parameters for demand, FTE salaries, outsourcing cost and Average Staff Availability\n",
    "\n",
    "model.d = Param(model.i, model.j, initialize=Demand, doc=\"Demand\")\n",
    "model.fs = Param(model.i, model.j, initialize=FTE_Monthly_Salary, doc=\"FTE_Monthly_Salary\")\n",
    "model.osc = Param(model.i, model.j, initialize=UnitOutSourcingCost, doc=\"OutSourcingCost\")\n",
    "model.sap = Param(model.i, model.j, initialize=Staff_Avail_Per, doc=\"StaffAvailPercent\")"
   ]
  },
  {
   "cell_type": "code",
   "execution_count": 17,
   "metadata": {},
   "outputs": [],
   "source": [
    "# FTE Application Serving Rate per month when working 100%\n",
    "\n",
    "model.fsr = Param(initialize=FTE_AppServiceRate, doc=\"FTE App Service Rate\")"
   ]
  },
  {
   "cell_type": "code",
   "execution_count": 18,
   "metadata": {},
   "outputs": [],
   "source": [
    "# Parameter for the number of applications that can be processed for the given staff availability\n",
    "\n",
    "def c_FTEAPP(model, i, j):\n",
    "    return model.fsr * model.sap[i,j]\n",
    "\n",
    "model.FTEAPPNUM = Param(model.i, model.j, initialize=c_FTEAPP, doc=\"NUMBER OF THE FTE APP\")"
   ]
  },
  {
   "cell_type": "code",
   "execution_count": 19,
   "metadata": {},
   "outputs": [],
   "source": [
    "# Parameters for restriction\n",
    "\n",
    "# Regulatory constraint for A i.e. 30%\n",
    "\n",
    "def Reg_A(model, i, j):\n",
    "    return 0.3 * model.d[i,j]\n",
    "\n",
    "model.RegA = Param(model.i, model.j, initialize=Reg_A, doc='RegRest_A')"
   ]
  },
  {
   "cell_type": "code",
   "execution_count": 20,
   "metadata": {},
   "outputs": [],
   "source": [
    "# Regulatory constraint for B i.e. 40%\n",
    "\n",
    "def Reg_B(model, i, j):\n",
    "    return 0.4 * model.d[i,j]\n",
    "\n",
    "model.RegB = Param(model.i, model.j, initialize=Reg_B, doc='RegRest_B')"
   ]
  },
  {
   "cell_type": "code",
   "execution_count": 21,
   "metadata": {},
   "outputs": [],
   "source": [
    "# Decision variables\n",
    "model.x = Var(model.i, model.j, domain=NonNegativeReals, doc=\"Number of FTE\")\n",
    "model.y = Var(model.i, model.j, domain=NonNegativeIntegers, doc=\"Number of Outsourced App\")"
   ]
  },
  {
   "cell_type": "code",
   "execution_count": 22,
   "metadata": {},
   "outputs": [],
   "source": [
    "# Demand Constraint\n",
    "model.demand_constraint = ConstraintList()\n",
    "for i in model.i:\n",
    "    for j in model.j:\n",
    "        model.demand_constraint.add(expr= model.x[i,j] * model.FTEAPPNUM[i,j] + model.y[i,j] == model.d[i,j])\n"
   ]
  },
  {
   "cell_type": "code",
   "execution_count": 23,
   "metadata": {},
   "outputs": [],
   "source": [
    "# Regulatory Constraints\n",
    "model.regulatoryCons = ConstraintList()\n",
    "for i in model.i:\n",
    "    for j in model.j:\n",
    "        if i == 'A':\n",
    "            model.regulatoryCons.add(expr= model.y['A',j]<=model.RegA['A',j])\n",
    "        elif i=='B':\n",
    "            model.regulatoryCons.add(expr= model.y['B',j]<=model.RegB['B',j])"
   ]
  },
  {
   "cell_type": "code",
   "execution_count": 24,
   "metadata": {},
   "outputs": [],
   "source": [
    "# Objective function\n",
    "def objective_rule(model):\n",
    "    return sum(model.x[i,j]*model.fs[i,j] for i in model.i for j in model.j) +\\\n",
    "           sum(model.osc[i,j]*model.y[i,j] for i in model.i for j in model.j)\n",
    "\n",
    "# Objective is minimize the cost\n",
    "model.objective = Objective(rule=objective_rule, sense=minimize, doc=\"Define Objective Function\")"
   ]
  },
  {
   "cell_type": "code",
   "execution_count": 25,
   "metadata": {},
   "outputs": [
    {
     "name": "stdout",
     "output_type": "stream",
     "text": [
      "# ==========================================================\n",
      "# = Solver Results                                         =\n",
      "# ==========================================================\n",
      "# ----------------------------------------------------------\n",
      "#   Problem Information\n",
      "# ----------------------------------------------------------\n",
      "Problem: \n",
      "- Name: unknown\n",
      "  Lower bound: 17962336.4487699\n",
      "  Upper bound: 17962336.4487699\n",
      "  Number of objectives: 1\n",
      "  Number of constraints: 61\n",
      "  Number of variables: 73\n",
      "  Number of nonzeros: 97\n",
      "  Sense: minimize\n",
      "# ----------------------------------------------------------\n",
      "#   Solver Information\n",
      "# ----------------------------------------------------------\n",
      "Solver: \n",
      "- Status: ok\n",
      "  Termination condition: optimal\n",
      "  Statistics: \n",
      "    Branch and bound: \n",
      "      Number of bounded subproblems: 0\n",
      "      Number of created subproblems: 0\n",
      "  Error rc: 0\n",
      "  Time: 0.1212773323059082\n",
      "# ----------------------------------------------------------\n",
      "#   Solution Information\n",
      "# ----------------------------------------------------------\n",
      "Solution: \n",
      "- number of solutions: 0\n",
      "  number of solutions displayed: 0\n"
     ]
    }
   ],
   "source": [
    "# Invoking the solver\n",
    "Result_Cost = SolverFactory(\"glpk\").solve(model)\n",
    "Result_Cost.write()"
   ]
  },
  {
   "cell_type": "code",
   "execution_count": 26,
   "metadata": {},
   "outputs": [
    {
     "name": "stdout",
     "output_type": "stream",
     "text": [
      "139.576923076923\n"
     ]
    }
   ],
   "source": [
    "print(model.x['A','Dec'].value)"
   ]
  },
  {
   "cell_type": "code",
   "execution_count": 27,
   "metadata": {},
   "outputs": [
    {
     "name": "stdout",
     "output_type": "stream",
     "text": [
      "1554.0\n"
     ]
    }
   ],
   "source": [
    "print(model.y['A','Dec'].value) "
   ]
  },
  {
   "cell_type": "code",
   "execution_count": 28,
   "metadata": {},
   "outputs": [
    {
     "data": {
      "text/plain": [
       "17962336.448769882"
      ]
     },
     "execution_count": 28,
     "metadata": {},
     "output_type": "execute_result"
    }
   ],
   "source": [
    "# Print the value of the objective function\n",
    "\n",
    "Total_Cost = model.objective.expr()\n",
    "Total_Cost"
   ]
  },
  {
   "cell_type": "markdown",
   "metadata": {},
   "source": [
    "**`Checkpoint 1:`** Seems like the company has to spend around 17.9 m$ in total for the application approval process.  - **YES**"
   ]
  },
  {
   "cell_type": "code",
   "execution_count": 29,
   "metadata": {},
   "outputs": [],
   "source": [
    "# Creating dataframe for the results\n",
    "\n",
    "FTE_Staff = []\n",
    "\n",
    "for i in InsCom_Location:\n",
    "    for j in Month:\n",
    "        d = model.d[i,j]\n",
    "        s = model.x[i,j].value\n",
    "        o = model.y[i,j].value\n",
    "        ec = model.x[i,j].value*model.fs[i,j]+model.osc[i,j]*model.y[i,j].value\n",
    "        cpa = round(ec/d,2)\n",
    "        FTE_Staff.append([i,j,d,s,o,ec,cpa])\n",
    "        \n",
    "FTE_Staff = pd.DataFrame(FTE_Staff, columns=['State',\"Month\",\"Demand\",\"Staff_FTE\",\"App_Outsourced\",\"Estimated Cost Per Month\",\"Cost Per Application\"])"
   ]
  },
  {
   "cell_type": "code",
   "execution_count": 30,
   "metadata": {},
   "outputs": [
    {
     "data": {
      "text/html": [
       "<div>\n",
       "<style scoped>\n",
       "    .dataframe tbody tr th:only-of-type {\n",
       "        vertical-align: middle;\n",
       "    }\n",
       "\n",
       "    .dataframe tbody tr th {\n",
       "        vertical-align: top;\n",
       "    }\n",
       "\n",
       "    .dataframe thead th {\n",
       "        text-align: right;\n",
       "    }\n",
       "</style>\n",
       "<table border=\"1\" class=\"dataframe\">\n",
       "  <thead>\n",
       "    <tr style=\"text-align: right;\">\n",
       "      <th></th>\n",
       "      <th>State</th>\n",
       "      <th>Month</th>\n",
       "      <th>Demand</th>\n",
       "      <th>Staff_FTE</th>\n",
       "      <th>App_Outsourced</th>\n",
       "      <th>Estimated Cost Per Month</th>\n",
       "      <th>Cost Per Application</th>\n",
       "    </tr>\n",
       "  </thead>\n",
       "  <tbody>\n",
       "    <tr>\n",
       "      <th>0</th>\n",
       "      <td>A</td>\n",
       "      <td>Jan</td>\n",
       "      <td>5240</td>\n",
       "      <td>161.728395</td>\n",
       "      <td>0.0</td>\n",
       "      <td>808641.975309</td>\n",
       "      <td>154.32</td>\n",
       "    </tr>\n",
       "    <tr>\n",
       "      <th>1</th>\n",
       "      <td>A</td>\n",
       "      <td>Feb</td>\n",
       "      <td>4878</td>\n",
       "      <td>160.460526</td>\n",
       "      <td>0.0</td>\n",
       "      <td>802302.631579</td>\n",
       "      <td>164.47</td>\n",
       "    </tr>\n",
       "    <tr>\n",
       "      <th>2</th>\n",
       "      <td>A</td>\n",
       "      <td>Mar</td>\n",
       "      <td>5942</td>\n",
       "      <td>198.066667</td>\n",
       "      <td>0.0</td>\n",
       "      <td>990333.333333</td>\n",
       "      <td>166.67</td>\n",
       "    </tr>\n",
       "    <tr>\n",
       "      <th>3</th>\n",
       "      <td>A</td>\n",
       "      <td>Apr</td>\n",
       "      <td>2297</td>\n",
       "      <td>71.781250</td>\n",
       "      <td>0.0</td>\n",
       "      <td>358906.250000</td>\n",
       "      <td>156.25</td>\n",
       "    </tr>\n",
       "    <tr>\n",
       "      <th>4</th>\n",
       "      <td>A</td>\n",
       "      <td>May</td>\n",
       "      <td>1992</td>\n",
       "      <td>63.846154</td>\n",
       "      <td>0.0</td>\n",
       "      <td>319230.769231</td>\n",
       "      <td>160.26</td>\n",
       "    </tr>\n",
       "    <tr>\n",
       "      <th>5</th>\n",
       "      <td>A</td>\n",
       "      <td>Jun</td>\n",
       "      <td>2275</td>\n",
       "      <td>77.910959</td>\n",
       "      <td>0.0</td>\n",
       "      <td>389554.794521</td>\n",
       "      <td>171.23</td>\n",
       "    </tr>\n",
       "    <tr>\n",
       "      <th>6</th>\n",
       "      <td>A</td>\n",
       "      <td>Jul</td>\n",
       "      <td>5334</td>\n",
       "      <td>137.279412</td>\n",
       "      <td>1600.0</td>\n",
       "      <td>974397.058824</td>\n",
       "      <td>182.68</td>\n",
       "    </tr>\n",
       "    <tr>\n",
       "      <th>7</th>\n",
       "      <td>A</td>\n",
       "      <td>Aug</td>\n",
       "      <td>3371</td>\n",
       "      <td>110.888158</td>\n",
       "      <td>0.0</td>\n",
       "      <td>554440.789474</td>\n",
       "      <td>164.47</td>\n",
       "    </tr>\n",
       "    <tr>\n",
       "      <th>8</th>\n",
       "      <td>A</td>\n",
       "      <td>Sep</td>\n",
       "      <td>3759</td>\n",
       "      <td>116.018519</td>\n",
       "      <td>0.0</td>\n",
       "      <td>580092.592593</td>\n",
       "      <td>154.32</td>\n",
       "    </tr>\n",
       "    <tr>\n",
       "      <th>9</th>\n",
       "      <td>A</td>\n",
       "      <td>Oct</td>\n",
       "      <td>3529</td>\n",
       "      <td>120.856164</td>\n",
       "      <td>0.0</td>\n",
       "      <td>604280.821918</td>\n",
       "      <td>171.23</td>\n",
       "    </tr>\n",
       "  </tbody>\n",
       "</table>\n",
       "</div>"
      ],
      "text/plain": [
       "  State Month  Demand   Staff_FTE  App_Outsourced  Estimated Cost Per Month  \\\n",
       "0     A   Jan    5240  161.728395             0.0             808641.975309   \n",
       "1     A   Feb    4878  160.460526             0.0             802302.631579   \n",
       "2     A   Mar    5942  198.066667             0.0             990333.333333   \n",
       "3     A   Apr    2297   71.781250             0.0             358906.250000   \n",
       "4     A   May    1992   63.846154             0.0             319230.769231   \n",
       "5     A   Jun    2275   77.910959             0.0             389554.794521   \n",
       "6     A   Jul    5334  137.279412          1600.0             974397.058824   \n",
       "7     A   Aug    3371  110.888158             0.0             554440.789474   \n",
       "8     A   Sep    3759  116.018519             0.0             580092.592593   \n",
       "9     A   Oct    3529  120.856164             0.0             604280.821918   \n",
       "\n",
       "   Cost Per Application  \n",
       "0                154.32  \n",
       "1                164.47  \n",
       "2                166.67  \n",
       "3                156.25  \n",
       "4                160.26  \n",
       "5                171.23  \n",
       "6                182.68  \n",
       "7                164.47  \n",
       "8                154.32  \n",
       "9                171.23  "
      ]
     },
     "execution_count": 30,
     "metadata": {},
     "output_type": "execute_result"
    }
   ],
   "source": [
    "#Displaying actual scenario results\n",
    "FTE_Staff.head(10)"
   ]
  },
  {
   "cell_type": "code",
   "execution_count": 31,
   "metadata": {},
   "outputs": [
    {
     "name": "stdout",
     "output_type": "stream",
     "text": [
      "Average Cost (in $) Per Application (Actual Case):  155.88\n"
     ]
    }
   ],
   "source": [
    "# For Actual Scenario,\n",
    "Average_Cost_Per_App = round(FTE_Staff['Cost Per Application'].mean(),2)\n",
    "print(\"Average Cost (in $) Per Application (Actual Case): \", Average_Cost_Per_App)"
   ]
  },
  {
   "cell_type": "code",
   "execution_count": 32,
   "metadata": {},
   "outputs": [
    {
     "name": "stdout",
     "output_type": "stream",
     "text": [
      "Optimal Number of Staff Members (Actual Case):  3085.50849262589\n"
     ]
    }
   ],
   "source": [
    "# Calculating and printing optimal number of staff members for the actual scenario\n",
    "Total_Staff_actual = sum(FTE_Staff['Staff_FTE'])\n",
    "print(\"Optimal Number of Staff Members (Actual Case): \", Total_Staff_actual)"
   ]
  },
  {
   "cell_type": "code",
   "execution_count": 33,
   "metadata": {},
   "outputs": [
    {
     "name": "stdout",
     "output_type": "stream",
     "text": [
      "Total Number of Outsourced Applications (Actual Case):  20749.0\n",
      "Total Demand of Applications:  113294\n",
      "Percentage of Outsourced Applications (Actual Case):  18.31\n"
     ]
    }
   ],
   "source": [
    "#Calculating and printing the percentage of outsourced applications for the actual scenario\n",
    "Total_App_Outsourced_actual = sum(FTE_Staff['App_Outsourced'])\n",
    "Total_Demand_actual = sum(FTE_Staff['Demand'])\n",
    "Percentage_App_Outsourced_actual = round((Total_App_Outsourced_actual/Total_Demand_actual)*100, 2)\n",
    "\n",
    "print(\"Total Number of Outsourced Applications (Actual Case): \", Total_App_Outsourced_actual)\n",
    "print(\"Total Demand of Applications: \", Total_Demand_actual)\n",
    "print(\"Percentage of Outsourced Applications (Actual Case): \", Percentage_App_Outsourced_actual)\n"
   ]
  },
  {
   "cell_type": "code",
   "execution_count": 34,
   "metadata": {},
   "outputs": [
    {
     "name": "stdout",
     "output_type": "stream",
     "text": [
      "Staffing+Data.xlsx excel file has been updated successfully.\n"
     ]
    }
   ],
   "source": [
    "# Writing the results in to an Excel sheet\n",
    "\n",
    "from openpyxl import load_workbook\n",
    "book = load_workbook(\"Staffing+Data.xlsx\")\n",
    "\n",
    "# Create excel 'write' object\n",
    "write = pd.ExcelWriter(\"Staffing+Data.xlsx\", engine = 'openpyxl')\n",
    "\n",
    "# Assigning the workbook to the 'write' object\n",
    "write.book = book\n",
    "\n",
    "# Writing the 'FTE_Staff' dataframe to 'Output_Actual' excel sheet.\n",
    "FTE_Staff.to_excel(write, sheet_name='Output_Actual')\n",
    "\n",
    "# Save the excel file\n",
    "write.save()\n",
    "print('Staffing+Data.xlsx excel file has been updated successfully.')\n"
   ]
  },
  {
   "cell_type": "code",
   "execution_count": null,
   "metadata": {},
   "outputs": [],
   "source": []
  },
  {
   "cell_type": "markdown",
   "metadata": {},
   "source": [
    "# Question 3\n",
    "\n",
    "#### Worst-case and best-case analysis based on the staffs' availability.\n",
    "\n",
    "Assuming that the distribution is the same across all the states,\n",
    "\n",
    "#### 3.1 Worst case analysis \n",
    "\n",
    "- 3.1.1 What is the optimal number of staff members for the worst case? \n",
    "\n",
    "- 3.1.2 What is the percentage of outsourcing for the worst case? \n",
    "\n",
    "- 3.1.3 What is the average cost per application for the worst case?\n",
    "\n",
    "\n",
    "#### 3.2 Best case analysis \n",
    "\n",
    "- 3.2.1 What is the optimal number of staff members for the best case? \n",
    "\n",
    "- 3.2.2 What is the percentage of outsourcing for the best case? \n",
    "\n",
    "- 3.2.3 What is the average cost per application for the best case?\n"
   ]
  },
  {
   "cell_type": "markdown",
   "metadata": {},
   "source": [
    "#### Expected output:\n",
    "\n",
    "For each of the subtasks (3.1 and 3.2) create a data frame containing the number of outsourced applications and the number of FTEs for each state-month combination. You can choose to have extra columns like staff availability, demand etc. in your dataframe apart from the ones mentioned earlier. Also, print the overall average percentage of outsourced applications and the overall average cost per application. "
   ]
  },
  {
   "cell_type": "markdown",
   "metadata": {},
   "source": [
    "### 3.1 Worst Case Analysis "
   ]
  },
  {
   "cell_type": "markdown",
   "metadata": {},
   "source": [
    "#### 3.1.1 Optimal number of staff members"
   ]
  },
  {
   "cell_type": "code",
   "execution_count": 35,
   "metadata": {},
   "outputs": [],
   "source": [
    "# Creating a model instance\n",
    "model_worst = ConcreteModel()"
   ]
  },
  {
   "cell_type": "code",
   "execution_count": 36,
   "metadata": {},
   "outputs": [],
   "source": [
    "# Define Pyomo sets and Parameters\n",
    "model_worst.i = Set(initialize=InsCom_Location.tolist(), doc=\"States\")\n",
    "model_worst.j = Set(initialize=Month.tolist(), doc=\"Months\")"
   ]
  },
  {
   "cell_type": "code",
   "execution_count": 37,
   "metadata": {},
   "outputs": [],
   "source": [
    "# Define parameters for demand, FTE salaries, outsourcing cost and Average Staff Availability\n",
    "model_worst.d = Param(model_worst.i, model_worst.j, initialize=Demand, doc=\"Demand\")\n",
    "model_worst.fs = Param(model_worst.i, model_worst.j, initialize=FTE_Monthly_Salary, doc=\"FTE_Monthly_Salary\")\n",
    "model_worst.osc = Param(model_worst.i, model_worst.j, initialize=UnitOutSourcingCost, doc=\"OutSourcingCost\")\n",
    "model_worst.sap = Param(model_worst.i, model_worst.j, initialize=Staff_Avail_LB, doc=\"StaffAvailPercent\")"
   ]
  },
  {
   "cell_type": "code",
   "execution_count": 38,
   "metadata": {},
   "outputs": [],
   "source": [
    "# Number of Applications handled by an employee when he/she is working 100%\n",
    "model_worst.fsr = Param(initialize=FTE_AppServiceRate, doc=\"FTE App Service Rate\")"
   ]
  },
  {
   "cell_type": "code",
   "execution_count": 39,
   "metadata": {},
   "outputs": [],
   "source": [
    "# Parameter for the no of Applications that can be processed for the given staff availability\n",
    "\n",
    "def c_FTEAPP(model1, i, j):\n",
    "    return model1.fsr * model1.sap[i,j]\n",
    "\n",
    "model_worst.FTEAPPNUM = Param(model_worst.i, model_worst.j, initialize=c_FTEAPP, doc=\"NUMBER OF THE FTE APP\")"
   ]
  },
  {
   "cell_type": "code",
   "execution_count": 40,
   "metadata": {},
   "outputs": [],
   "source": [
    "# Parameters for restriction\n",
    "\n",
    "# Regulatory constraint for A i.e. 30%\n",
    "\n",
    "def Reg_A(model1, i, j):\n",
    "    return 0.3 * model1.d[i,j]\n",
    "\n",
    "model_worst.RegA = Param(model_worst.i, model_worst.j, initialize=Reg_A, doc='RegRest_A')"
   ]
  },
  {
   "cell_type": "code",
   "execution_count": 41,
   "metadata": {},
   "outputs": [],
   "source": [
    "# Regulatory constraint for B i.e. 40%\n",
    "\n",
    "def Reg_B(model1, i, j):\n",
    "    return 0.4 * model1.d[i,j]\n",
    "\n",
    "model_worst.RegB = Param(model_worst.i, model_worst.j, initialize=Reg_B, doc='RegRest_B')"
   ]
  },
  {
   "cell_type": "code",
   "execution_count": 42,
   "metadata": {},
   "outputs": [],
   "source": [
    "# Decision variables\n",
    "model_worst.x = Var(model_worst.i, model_worst.j, domain=NonNegativeReals, doc=\"Number of FTE\")\n",
    "model_worst.y = Var(model_worst.i, model_worst.j, domain=NonNegativeIntegers, doc=\"Number of Outsourced App\")"
   ]
  },
  {
   "cell_type": "code",
   "execution_count": 43,
   "metadata": {},
   "outputs": [],
   "source": [
    "# Constraints\n",
    "# Demand Constraint\n",
    "model_worst.demand_constraint = ConstraintList()\n",
    "for i in model_worst.i:\n",
    "    for j in model_worst.j:\n",
    "        model_worst.demand_constraint.add(expr= model_worst.x[i,j] * model_worst.FTEAPPNUM[i,j] + model_worst.y[i,j] == model_worst.d[i,j])"
   ]
  },
  {
   "cell_type": "code",
   "execution_count": 44,
   "metadata": {},
   "outputs": [],
   "source": [
    "# Regulatory Constraints\n",
    "model_worst.regulatoryCons = ConstraintList()\n",
    "for i in model_worst.i:\n",
    "    for j in model_worst.j:\n",
    "        if i == 'A':\n",
    "            model_worst.regulatoryCons.add(expr= model_worst.y['A',j]<=model_worst.RegA['A',j])\n",
    "        elif i=='B':\n",
    "            model_worst.regulatoryCons.add(expr= model_worst.y['B',j]<=model_worst.RegB['B',j])"
   ]
  },
  {
   "cell_type": "code",
   "execution_count": 45,
   "metadata": {},
   "outputs": [],
   "source": [
    "# Objective function\n",
    "def objective_rule(model1):\n",
    "    return sum(model1.x[i,j]*model1.fs[i,j] for i in model1.i for j in model1.j) +\\\n",
    "           sum(model1.osc[i,j]*model1.y[i,j] for i in model1.i for j in model1.j)\n",
    "\n",
    "model_worst.objective = Objective(rule=objective_rule, sense=minimize, doc=\"Define Objective Function\")\n"
   ]
  },
  {
   "cell_type": "code",
   "execution_count": 46,
   "metadata": {},
   "outputs": [
    {
     "name": "stdout",
     "output_type": "stream",
     "text": [
      "# ==========================================================\n",
      "# = Solver Results                                         =\n",
      "# ==========================================================\n",
      "# ----------------------------------------------------------\n",
      "#   Problem Information\n",
      "# ----------------------------------------------------------\n",
      "Problem: \n",
      "- Name: unknown\n",
      "  Lower bound: 19599482.5167888\n",
      "  Upper bound: 19599482.5167888\n",
      "  Number of objectives: 1\n",
      "  Number of constraints: 61\n",
      "  Number of variables: 73\n",
      "  Number of nonzeros: 97\n",
      "  Sense: minimize\n",
      "# ----------------------------------------------------------\n",
      "#   Solver Information\n",
      "# ----------------------------------------------------------\n",
      "Solver: \n",
      "- Status: ok\n",
      "  Termination condition: optimal\n",
      "  Statistics: \n",
      "    Branch and bound: \n",
      "      Number of bounded subproblems: 0\n",
      "      Number of created subproblems: 0\n",
      "  Error rc: 0\n",
      "  Time: 0.10502386093139648\n",
      "# ----------------------------------------------------------\n",
      "#   Solution Information\n",
      "# ----------------------------------------------------------\n",
      "Solution: \n",
      "- number of solutions: 0\n",
      "  number of solutions displayed: 0\n"
     ]
    }
   ],
   "source": [
    "# Invoking the solver\n",
    "Result_Worst_cost = SolverFactory(\"glpk\").solve(model_worst)\n",
    "Result_Worst_cost.write()"
   ]
  },
  {
   "cell_type": "code",
   "execution_count": 47,
   "metadata": {},
   "outputs": [
    {
     "data": {
      "text/plain": [
       "19599482.516788766"
      ]
     },
     "execution_count": 47,
     "metadata": {},
     "output_type": "execute_result"
    }
   ],
   "source": [
    "# Print the value of the objective function\n",
    "Total_Worst_Cost = model_worst.objective.expr()\n",
    "Total_Worst_Cost"
   ]
  },
  {
   "cell_type": "markdown",
   "metadata": {},
   "source": [
    "**`Checkpoint 2:`** The company has to spend around 19.6 m$ in total for the application approval process if the staffs are working with the minimum availability. - **YES**"
   ]
  },
  {
   "cell_type": "code",
   "execution_count": 48,
   "metadata": {},
   "outputs": [],
   "source": [
    "# Creating dataframe for the results\n",
    "# Creating dataframe 'FTE_Staff_Worst' and storing worst case results\n",
    "\n",
    "FTE_Staff_Worst = []\n",
    "\n",
    "for i in InsCom_Location:\n",
    "    for j in Month:\n",
    "        d = model_worst.d[i,j]\n",
    "        s = model_worst.x[i,j].value\n",
    "        o = model_worst.y[i,j].value\n",
    "        ec = model_worst.x[i,j].value*model_worst.fs[i,j]+model_worst.osc[i,j]*model_worst.y[i,j].value\n",
    "        cpa = round(ec/d,2)\n",
    "        FTE_Staff_Worst.append([i,j,d,s,o,ec,cpa])\n",
    "                \n",
    "FTE_Staff_Worst = pd.DataFrame(FTE_Staff_Worst, columns=['State',\"Month\",\"Demand\",\"Staff_FTE\",\"App_Outsourced\",\"Estimated Cost Per Month\",\"Cost Per Application\"])\n"
   ]
  },
  {
   "cell_type": "code",
   "execution_count": 49,
   "metadata": {},
   "outputs": [
    {
     "data": {
      "text/html": [
       "<div>\n",
       "<style scoped>\n",
       "    .dataframe tbody tr th:only-of-type {\n",
       "        vertical-align: middle;\n",
       "    }\n",
       "\n",
       "    .dataframe tbody tr th {\n",
       "        vertical-align: top;\n",
       "    }\n",
       "\n",
       "    .dataframe thead th {\n",
       "        text-align: right;\n",
       "    }\n",
       "</style>\n",
       "<table border=\"1\" class=\"dataframe\">\n",
       "  <thead>\n",
       "    <tr style=\"text-align: right;\">\n",
       "      <th></th>\n",
       "      <th>State</th>\n",
       "      <th>Month</th>\n",
       "      <th>Demand</th>\n",
       "      <th>Staff_FTE</th>\n",
       "      <th>App_Outsourced</th>\n",
       "      <th>Estimated Cost Per Month</th>\n",
       "      <th>Cost Per Application</th>\n",
       "    </tr>\n",
       "  </thead>\n",
       "  <tbody>\n",
       "    <tr>\n",
       "      <th>0</th>\n",
       "      <td>A</td>\n",
       "      <td>Jan</td>\n",
       "      <td>5240</td>\n",
       "      <td>187.142857</td>\n",
       "      <td>0.0</td>\n",
       "      <td>9.357143e+05</td>\n",
       "      <td>178.57</td>\n",
       "    </tr>\n",
       "    <tr>\n",
       "      <th>1</th>\n",
       "      <td>A</td>\n",
       "      <td>Feb</td>\n",
       "      <td>4878</td>\n",
       "      <td>131.346154</td>\n",
       "      <td>1463.0</td>\n",
       "      <td>9.200708e+05</td>\n",
       "      <td>188.62</td>\n",
       "    </tr>\n",
       "    <tr>\n",
       "      <th>2</th>\n",
       "      <td>A</td>\n",
       "      <td>Mar</td>\n",
       "      <td>5942</td>\n",
       "      <td>212.214286</td>\n",
       "      <td>0.0</td>\n",
       "      <td>1.061071e+06</td>\n",
       "      <td>178.57</td>\n",
       "    </tr>\n",
       "    <tr>\n",
       "      <th>3</th>\n",
       "      <td>A</td>\n",
       "      <td>Apr</td>\n",
       "      <td>2297</td>\n",
       "      <td>76.566667</td>\n",
       "      <td>0.0</td>\n",
       "      <td>3.828333e+05</td>\n",
       "      <td>166.67</td>\n",
       "    </tr>\n",
       "    <tr>\n",
       "      <th>4</th>\n",
       "      <td>A</td>\n",
       "      <td>May</td>\n",
       "      <td>1992</td>\n",
       "      <td>71.142857</td>\n",
       "      <td>0.0</td>\n",
       "      <td>3.557143e+05</td>\n",
       "      <td>178.57</td>\n",
       "    </tr>\n",
       "    <tr>\n",
       "      <th>5</th>\n",
       "      <td>A</td>\n",
       "      <td>Jun</td>\n",
       "      <td>2275</td>\n",
       "      <td>61.269231</td>\n",
       "      <td>682.0</td>\n",
       "      <td>4.291062e+05</td>\n",
       "      <td>188.62</td>\n",
       "    </tr>\n",
       "    <tr>\n",
       "      <th>6</th>\n",
       "      <td>A</td>\n",
       "      <td>Jul</td>\n",
       "      <td>5334</td>\n",
       "      <td>155.583333</td>\n",
       "      <td>1600.0</td>\n",
       "      <td>1.065917e+06</td>\n",
       "      <td>199.83</td>\n",
       "    </tr>\n",
       "    <tr>\n",
       "      <th>7</th>\n",
       "      <td>A</td>\n",
       "      <td>Aug</td>\n",
       "      <td>3371</td>\n",
       "      <td>90.769231</td>\n",
       "      <td>1011.0</td>\n",
       "      <td>6.358262e+05</td>\n",
       "      <td>188.62</td>\n",
       "    </tr>\n",
       "    <tr>\n",
       "      <th>8</th>\n",
       "      <td>A</td>\n",
       "      <td>Sep</td>\n",
       "      <td>3759</td>\n",
       "      <td>134.250000</td>\n",
       "      <td>0.0</td>\n",
       "      <td>6.712500e+05</td>\n",
       "      <td>178.57</td>\n",
       "    </tr>\n",
       "    <tr>\n",
       "      <th>9</th>\n",
       "      <td>A</td>\n",
       "      <td>Oct</td>\n",
       "      <td>3529</td>\n",
       "      <td>95.038462</td>\n",
       "      <td>1058.0</td>\n",
       "      <td>6.656323e+05</td>\n",
       "      <td>188.62</td>\n",
       "    </tr>\n",
       "  </tbody>\n",
       "</table>\n",
       "</div>"
      ],
      "text/plain": [
       "  State Month  Demand   Staff_FTE  App_Outsourced  Estimated Cost Per Month  \\\n",
       "0     A   Jan    5240  187.142857             0.0              9.357143e+05   \n",
       "1     A   Feb    4878  131.346154          1463.0              9.200708e+05   \n",
       "2     A   Mar    5942  212.214286             0.0              1.061071e+06   \n",
       "3     A   Apr    2297   76.566667             0.0              3.828333e+05   \n",
       "4     A   May    1992   71.142857             0.0              3.557143e+05   \n",
       "5     A   Jun    2275   61.269231           682.0              4.291062e+05   \n",
       "6     A   Jul    5334  155.583333          1600.0              1.065917e+06   \n",
       "7     A   Aug    3371   90.769231          1011.0              6.358262e+05   \n",
       "8     A   Sep    3759  134.250000             0.0              6.712500e+05   \n",
       "9     A   Oct    3529   95.038462          1058.0              6.656323e+05   \n",
       "\n",
       "   Cost Per Application  \n",
       "0                178.57  \n",
       "1                188.62  \n",
       "2                178.57  \n",
       "3                166.67  \n",
       "4                178.57  \n",
       "5                188.62  \n",
       "6                199.83  \n",
       "7                188.62  \n",
       "8                178.57  \n",
       "9                188.62  "
      ]
     },
     "execution_count": 49,
     "metadata": {},
     "output_type": "execute_result"
    }
   ],
   "source": [
    "#Displaying worst-case scenario results\n",
    "\n",
    "FTE_Staff_Worst.head(10)"
   ]
  },
  {
   "cell_type": "code",
   "execution_count": 50,
   "metadata": {},
   "outputs": [
    {
     "name": "stdout",
     "output_type": "stream",
     "text": [
      "Staffing+Data.xlsx excel file has been updated successfully with the Worst Case Results.\n"
     ]
    }
   ],
   "source": [
    "# Writing the worst case results into an Excel sheet\n",
    "\n",
    "from openpyxl import load_workbook\n",
    "book = load_workbook(\"Staffing+Data.xlsx\")\n",
    "\n",
    "# Create excel 'write' object\n",
    "write = pd.ExcelWriter(\"Staffing+Data.xlsx\", engine = 'openpyxl')\n",
    "\n",
    "# Assigning the workbook to the 'write' object\n",
    "write.book = book\n",
    "\n",
    "# Writing the 'FTE_Staff_Worst' dataframe to 'Output_Worst' excel sheet.\n",
    "FTE_Staff_Worst.to_excel(write, sheet_name='Output_Worst')\n",
    "\n",
    "# Save the excel file\n",
    "write.save()\n",
    "print('Staffing+Data.xlsx excel file has been updated successfully with the Worst Case Results.')"
   ]
  },
  {
   "cell_type": "code",
   "execution_count": 51,
   "metadata": {},
   "outputs": [
    {
     "name": "stdout",
     "output_type": "stream",
     "text": [
      "Optimal Number of Staff Members (Worst Case):  2761.2709706959704\n"
     ]
    }
   ],
   "source": [
    "#Calculating and printing the optimal number of staff members for worst-case scenario\n",
    "Total_Staff_Worst = sum(FTE_Staff_Worst['Staff_FTE'])\n",
    "print(\"Optimal Number of Staff Members (Worst Case): \", Total_Staff_Worst)"
   ]
  },
  {
   "cell_type": "markdown",
   "metadata": {},
   "source": [
    "#### 3.1.2 Percentage of outsourced applications "
   ]
  },
  {
   "cell_type": "code",
   "execution_count": 52,
   "metadata": {},
   "outputs": [
    {
     "name": "stdout",
     "output_type": "stream",
     "text": [
      "Total Number of Outsourced Applications (Worst Case):  39808.0\n",
      "Total Demand of Applications:  113294\n",
      "Percentage of Outsourced Applications (Worst Case):  35.14\n"
     ]
    }
   ],
   "source": [
    "# For Worst Case Scenario,\n",
    "#Calculating and printing the percentage of outsourced applications for the worst-case scenario\n",
    "\n",
    "Total_App_Outsourced_Worst = sum(FTE_Staff_Worst['App_Outsourced'])\n",
    "Total_Demand_Worst = sum(FTE_Staff_Worst['Demand'])\n",
    "Percentage_App_Outsourced_Worst = round((Total_App_Outsourced_Worst/Total_Demand_Worst)*100, 2)\n",
    "\n",
    "print(\"Total Number of Outsourced Applications (Worst Case): \", Total_App_Outsourced_Worst)\n",
    "print(\"Total Demand of Applications: \", Total_Demand_Worst)\n",
    "print(\"Percentage of Outsourced Applications (Worst Case): \", Percentage_App_Outsourced_Worst)"
   ]
  },
  {
   "cell_type": "markdown",
   "metadata": {},
   "source": [
    "#### 3.1.3 Average cost per application"
   ]
  },
  {
   "cell_type": "code",
   "execution_count": 53,
   "metadata": {},
   "outputs": [
    {
     "name": "stdout",
     "output_type": "stream",
     "text": [
      "Average Cost (in $) Per Application (Worst Case):  169.57\n"
     ]
    }
   ],
   "source": [
    "# For Worst Case Scenario,\n",
    "#Calculating and printing average cost per application for worst-case scenario\n",
    "Average_Cost_Per_App_Worst = round(FTE_Staff_Worst['Cost Per Application'].mean(),2)\n",
    "print(\"Average Cost (in $) Per Application (Worst Case): \", Average_Cost_Per_App_Worst)"
   ]
  },
  {
   "cell_type": "markdown",
   "metadata": {},
   "source": [
    "### 3.2  Best Case Analysis "
   ]
  },
  {
   "cell_type": "markdown",
   "metadata": {},
   "source": [
    "#### 3.2.1 Optimal number of staff members\n"
   ]
  },
  {
   "cell_type": "code",
   "execution_count": 54,
   "metadata": {},
   "outputs": [],
   "source": [
    "# Creating a model instance\n",
    "model_best = ConcreteModel()"
   ]
  },
  {
   "cell_type": "code",
   "execution_count": 55,
   "metadata": {},
   "outputs": [],
   "source": [
    "# Define Pyomo sets and Parameters\n",
    "model_best.i = Set(initialize=InsCom_Location.tolist(), doc=\"States\")\n",
    "model_best.j = Set(initialize=Month.tolist(), doc=\"Months\")"
   ]
  },
  {
   "cell_type": "code",
   "execution_count": 56,
   "metadata": {},
   "outputs": [],
   "source": [
    "# Define parameters for demand, FTE salaries, outsourcing cost and Average Staff Availability\n",
    "model_best.d = Param(model_best.i, model_best.j, initialize=Demand, doc=\"Demand\")\n",
    "model_best.fs = Param(model_best.i, model_best.j, initialize=FTE_Monthly_Salary, doc=\"FTE_Monthly_Salary\")\n",
    "model_best.osc = Param(model_best.i, model_best.j, initialize=UnitOutSourcingCost, doc=\"OutSourcingCost\")\n",
    "model_best.sap = Param(model_best.i, model_best.j, initialize=Staff_Avail_UB, doc=\"StaffAvailPercent\")"
   ]
  },
  {
   "cell_type": "code",
   "execution_count": 57,
   "metadata": {},
   "outputs": [],
   "source": [
    "# Number of Applications handled by an employee when he/she is working 100%\n",
    "model_best.fsr = Param(initialize=FTE_AppServiceRate, doc=\"FTE App Service Rate\")"
   ]
  },
  {
   "cell_type": "code",
   "execution_count": 58,
   "metadata": {},
   "outputs": [],
   "source": [
    "# Parameter for the number of applications that can be processed for the given best case staff availability\n",
    "\n",
    "def c_FTEAPP(model2, i, j):\n",
    "    return model2.fsr * model2.sap[i,j]\n",
    "\n",
    "model_best.FTEAPPNUM = Param(model_best.i, model_best.j, initialize=c_FTEAPP, doc=\"NUMBER OF THE FTE APP\")"
   ]
  },
  {
   "cell_type": "code",
   "execution_count": 59,
   "metadata": {},
   "outputs": [],
   "source": [
    "# Parameters for restriction\n",
    "\n",
    "# Regulatory constraint for A i.e. 30%\n",
    "def Reg_A(model2, i, j):\n",
    "    return 0.3 * model2.d[i,j]\n",
    "\n",
    "model_best.RegA = Param(model_best.i, model_best.j, initialize=Reg_A, doc='RegRest_A')"
   ]
  },
  {
   "cell_type": "code",
   "execution_count": 60,
   "metadata": {},
   "outputs": [],
   "source": [
    "# Regulatory constraint for B i.e. 40%\n",
    "def Reg_B(model2, i, j):\n",
    "    return 0.4 * model2.d[i,j]\n",
    "\n",
    "model_best.RegB = Param(model_best.i, model_best.j, initialize=Reg_B, doc='RegRest_B')"
   ]
  },
  {
   "cell_type": "code",
   "execution_count": 61,
   "metadata": {},
   "outputs": [],
   "source": [
    "# Decision variables\n",
    "model_best.x = Var(model_best.i, model_best.j, domain=NonNegativeReals, doc=\"Number of FTE\")\n",
    "model_best.y = Var(model_best.i, model_best.j, domain=NonNegativeIntegers, doc=\"Number of Outsourced App\")"
   ]
  },
  {
   "cell_type": "code",
   "execution_count": 62,
   "metadata": {},
   "outputs": [],
   "source": [
    "# Constraints\n",
    "# Demand Constraint\n",
    "model_best.demand_constraint = ConstraintList()\n",
    "for i in model_best.i:\n",
    "    for j in model_best.j:\n",
    "        model_best.demand_constraint.add(expr= model_best.x[i,j] * model_best.FTEAPPNUM[i,j] + model_best.y[i,j] == model_best.d[i,j])\n"
   ]
  },
  {
   "cell_type": "code",
   "execution_count": 63,
   "metadata": {},
   "outputs": [],
   "source": [
    "# Regulatory Constraints\n",
    "model_best.regulatoryCons = ConstraintList()\n",
    "for i in model_best.i:\n",
    "    for j in model_best.j:\n",
    "        if i == 'A':\n",
    "            model_best.regulatoryCons.add(expr= model_best.y['A',j]<=model_best.RegA['A',j])\n",
    "        elif i=='B':\n",
    "            model_best.regulatoryCons.add(expr= model_best.y['B',j]<=model_best.RegB['B',j])"
   ]
  },
  {
   "cell_type": "code",
   "execution_count": 64,
   "metadata": {},
   "outputs": [],
   "source": [
    "# Objective Function\n",
    "def objective_rule(model2):\n",
    "    return sum(model2.x[i,j]*model2.fs[i,j] for i in model2.i for j in model2.j) +\\\n",
    "           sum(model2.osc[i,j]*model2.y[i,j] for i in model2.i for j in model2.j)\n",
    "\n",
    "model_best.objective = Objective(rule=objective_rule, sense=minimize, doc=\"Define Objective Function\")\n"
   ]
  },
  {
   "cell_type": "code",
   "execution_count": 65,
   "metadata": {},
   "outputs": [
    {
     "name": "stdout",
     "output_type": "stream",
     "text": [
      "# ==========================================================\n",
      "# = Solver Results                                         =\n",
      "# ==========================================================\n",
      "# ----------------------------------------------------------\n",
      "#   Problem Information\n",
      "# ----------------------------------------------------------\n",
      "Problem: \n",
      "- Name: unknown\n",
      "  Lower bound: 16527535.6379357\n",
      "  Upper bound: 16527535.6379357\n",
      "  Number of objectives: 1\n",
      "  Number of constraints: 61\n",
      "  Number of variables: 73\n",
      "  Number of nonzeros: 97\n",
      "  Sense: minimize\n",
      "# ----------------------------------------------------------\n",
      "#   Solver Information\n",
      "# ----------------------------------------------------------\n",
      "Solver: \n",
      "- Status: ok\n",
      "  Termination condition: optimal\n",
      "  Statistics: \n",
      "    Branch and bound: \n",
      "      Number of bounded subproblems: 0\n",
      "      Number of created subproblems: 0\n",
      "  Error rc: 0\n",
      "  Time: 0.09502005577087402\n",
      "# ----------------------------------------------------------\n",
      "#   Solution Information\n",
      "# ----------------------------------------------------------\n",
      "Solution: \n",
      "- number of solutions: 0\n",
      "  number of solutions displayed: 0\n"
     ]
    }
   ],
   "source": [
    "# Invoking the solver\n",
    "Result_Best_Cost = SolverFactory(\"glpk\").solve(model_best)\n",
    "Result_Best_Cost.write()"
   ]
  },
  {
   "cell_type": "code",
   "execution_count": 66,
   "metadata": {},
   "outputs": [
    {
     "data": {
      "text/plain": [
       "16527535.63793573"
      ]
     },
     "execution_count": 66,
     "metadata": {},
     "output_type": "execute_result"
    }
   ],
   "source": [
    "# Print the value of the objective function\n",
    "Total_Best_Cost = model_best.objective.expr()\n",
    "Total_Best_Cost"
   ]
  },
  {
   "cell_type": "markdown",
   "metadata": {},
   "source": [
    "**`Checkpoint 3:`** The company has to spend around 16.5 m$ in total for the application approval process if the staffs are working with the maximum availability. - **YES**"
   ]
  },
  {
   "cell_type": "code",
   "execution_count": 67,
   "metadata": {},
   "outputs": [],
   "source": [
    "# Creating dataframe for the results\n",
    "# Creating dataframe 'FTE_Staff_Best' and storing best case results\n",
    "\n",
    "FTE_Staff_Best = []\n",
    "\n",
    "for i in InsCom_Location:\n",
    "    for j in Month:\n",
    "        d = model_best.d[i,j]\n",
    "        s = model_best.x[i,j].value\n",
    "        o = model_best.y[i,j].value\n",
    "        ec = model_best.x[i,j].value*model_best.fs[i,j]+model_best.osc[i,j]*model_best.y[i,j].value\n",
    "        cpa = round(ec/d,2)\n",
    "        FTE_Staff_Best.append([i,j,d,s,o,ec,cpa])\n",
    "        \n",
    "FTE_Staff_Best = pd.DataFrame(FTE_Staff_Best, columns=['State',\"Month\",\"Demand\",\"Staff_FTE\",\"App_Outsourced\",\"Estimated Cost Per Month\",\"Cost Per Application\"])"
   ]
  },
  {
   "cell_type": "code",
   "execution_count": 68,
   "metadata": {},
   "outputs": [
    {
     "data": {
      "text/html": [
       "<div>\n",
       "<style scoped>\n",
       "    .dataframe tbody tr th:only-of-type {\n",
       "        vertical-align: middle;\n",
       "    }\n",
       "\n",
       "    .dataframe tbody tr th {\n",
       "        vertical-align: top;\n",
       "    }\n",
       "\n",
       "    .dataframe thead th {\n",
       "        text-align: right;\n",
       "    }\n",
       "</style>\n",
       "<table border=\"1\" class=\"dataframe\">\n",
       "  <thead>\n",
       "    <tr style=\"text-align: right;\">\n",
       "      <th></th>\n",
       "      <th>State</th>\n",
       "      <th>Month</th>\n",
       "      <th>Demand</th>\n",
       "      <th>Staff_FTE</th>\n",
       "      <th>App_Outsourced</th>\n",
       "      <th>Estimated Cost Per Month</th>\n",
       "      <th>Cost Per Application</th>\n",
       "    </tr>\n",
       "  </thead>\n",
       "  <tbody>\n",
       "    <tr>\n",
       "      <th>0</th>\n",
       "      <td>A</td>\n",
       "      <td>Jan</td>\n",
       "      <td>5240</td>\n",
       "      <td>145.555556</td>\n",
       "      <td>0.0</td>\n",
       "      <td>727777.777778</td>\n",
       "      <td>138.89</td>\n",
       "    </tr>\n",
       "    <tr>\n",
       "      <th>1</th>\n",
       "      <td>A</td>\n",
       "      <td>Feb</td>\n",
       "      <td>4878</td>\n",
       "      <td>143.470588</td>\n",
       "      <td>0.0</td>\n",
       "      <td>717352.941176</td>\n",
       "      <td>147.06</td>\n",
       "    </tr>\n",
       "    <tr>\n",
       "      <th>2</th>\n",
       "      <td>A</td>\n",
       "      <td>Mar</td>\n",
       "      <td>5942</td>\n",
       "      <td>185.687500</td>\n",
       "      <td>0.0</td>\n",
       "      <td>928437.500000</td>\n",
       "      <td>156.25</td>\n",
       "    </tr>\n",
       "    <tr>\n",
       "      <th>3</th>\n",
       "      <td>A</td>\n",
       "      <td>Apr</td>\n",
       "      <td>2297</td>\n",
       "      <td>67.558824</td>\n",
       "      <td>0.0</td>\n",
       "      <td>337794.117647</td>\n",
       "      <td>147.06</td>\n",
       "    </tr>\n",
       "    <tr>\n",
       "      <th>4</th>\n",
       "      <td>A</td>\n",
       "      <td>May</td>\n",
       "      <td>1992</td>\n",
       "      <td>58.588235</td>\n",
       "      <td>0.0</td>\n",
       "      <td>292941.176471</td>\n",
       "      <td>147.06</td>\n",
       "    </tr>\n",
       "    <tr>\n",
       "      <th>5</th>\n",
       "      <td>A</td>\n",
       "      <td>Jun</td>\n",
       "      <td>2275</td>\n",
       "      <td>71.093750</td>\n",
       "      <td>0.0</td>\n",
       "      <td>355468.750000</td>\n",
       "      <td>156.25</td>\n",
       "    </tr>\n",
       "    <tr>\n",
       "      <th>6</th>\n",
       "      <td>A</td>\n",
       "      <td>Jul</td>\n",
       "      <td>5334</td>\n",
       "      <td>177.800000</td>\n",
       "      <td>0.0</td>\n",
       "      <td>889000.000000</td>\n",
       "      <td>166.67</td>\n",
       "    </tr>\n",
       "    <tr>\n",
       "      <th>7</th>\n",
       "      <td>A</td>\n",
       "      <td>Aug</td>\n",
       "      <td>3371</td>\n",
       "      <td>99.147059</td>\n",
       "      <td>0.0</td>\n",
       "      <td>495735.294118</td>\n",
       "      <td>147.06</td>\n",
       "    </tr>\n",
       "    <tr>\n",
       "      <th>8</th>\n",
       "      <td>A</td>\n",
       "      <td>Sep</td>\n",
       "      <td>3759</td>\n",
       "      <td>104.416667</td>\n",
       "      <td>0.0</td>\n",
       "      <td>522083.333333</td>\n",
       "      <td>138.89</td>\n",
       "    </tr>\n",
       "    <tr>\n",
       "      <th>9</th>\n",
       "      <td>A</td>\n",
       "      <td>Oct</td>\n",
       "      <td>3529</td>\n",
       "      <td>110.281250</td>\n",
       "      <td>0.0</td>\n",
       "      <td>551406.250000</td>\n",
       "      <td>156.25</td>\n",
       "    </tr>\n",
       "  </tbody>\n",
       "</table>\n",
       "</div>"
      ],
      "text/plain": [
       "  State Month  Demand   Staff_FTE  App_Outsourced  Estimated Cost Per Month  \\\n",
       "0     A   Jan    5240  145.555556             0.0             727777.777778   \n",
       "1     A   Feb    4878  143.470588             0.0             717352.941176   \n",
       "2     A   Mar    5942  185.687500             0.0             928437.500000   \n",
       "3     A   Apr    2297   67.558824             0.0             337794.117647   \n",
       "4     A   May    1992   58.588235             0.0             292941.176471   \n",
       "5     A   Jun    2275   71.093750             0.0             355468.750000   \n",
       "6     A   Jul    5334  177.800000             0.0             889000.000000   \n",
       "7     A   Aug    3371   99.147059             0.0             495735.294118   \n",
       "8     A   Sep    3759  104.416667             0.0             522083.333333   \n",
       "9     A   Oct    3529  110.281250             0.0             551406.250000   \n",
       "\n",
       "   Cost Per Application  \n",
       "0                138.89  \n",
       "1                147.06  \n",
       "2                156.25  \n",
       "3                147.06  \n",
       "4                147.06  \n",
       "5                156.25  \n",
       "6                166.67  \n",
       "7                147.06  \n",
       "8                138.89  \n",
       "9                156.25  "
      ]
     },
     "execution_count": 68,
     "metadata": {},
     "output_type": "execute_result"
    }
   ],
   "source": [
    "#Displaying best-case scenario results\n",
    "FTE_Staff_Best.head(10)"
   ]
  },
  {
   "cell_type": "code",
   "execution_count": 69,
   "metadata": {},
   "outputs": [
    {
     "name": "stdout",
     "output_type": "stream",
     "text": [
      "Staffing+Data.xlsx excel file has been updated successfully with the Best Case Results.\n"
     ]
    }
   ],
   "source": [
    "# Writing the best case results into an Excel sheet\n",
    "\n",
    "from openpyxl import load_workbook\n",
    "book = load_workbook(\"Staffing+Data.xlsx\")\n",
    "\n",
    "# Create excel 'write' object\n",
    "write = pd.ExcelWriter(\"Staffing+Data.xlsx\", engine = 'openpyxl')\n",
    "\n",
    "# Assigning the workbook to the 'write' object\n",
    "write.book = book\n",
    "\n",
    "# Writing the 'FTE_Staff' dataframe to 'Output_Actual' excel sheet.\n",
    "FTE_Staff_Best.to_excel(write, sheet_name='Output_Best')\n",
    "\n",
    "# Save the excel file\n",
    "write.save()\n",
    "print('Staffing+Data.xlsx excel file has been updated successfully with the Best Case Results.')"
   ]
  },
  {
   "cell_type": "code",
   "execution_count": 70,
   "metadata": {},
   "outputs": [
    {
     "name": "stdout",
     "output_type": "stream",
     "text": [
      "Optimal Number of Staff Members (Best Case):  3343.189524976659\n"
     ]
    }
   ],
   "source": [
    "#Calculating and printing the optimal number of staff members for best-case scenario\n",
    "\n",
    "Total_Staff_Best = sum(FTE_Staff_Best['Staff_FTE'])\n",
    "print(\"Optimal Number of Staff Members (Best Case): \", Total_Staff_Best)"
   ]
  },
  {
   "cell_type": "markdown",
   "metadata": {},
   "source": [
    "#### 3.2.2 Percentage of outsourced applications"
   ]
  },
  {
   "cell_type": "code",
   "execution_count": 71,
   "metadata": {},
   "outputs": [
    {
     "name": "stdout",
     "output_type": "stream",
     "text": [
      "Total Number of Outsourced Applications (Best Case):  4652.0\n",
      "Total Demand of Applications:  113294\n",
      "Percentage of Outsourced Applications (Best Case):  4.11\n"
     ]
    }
   ],
   "source": [
    "# For Best Case Scenario,\n",
    "#Calculating and printing the percentage of outsourced applications for the best-case scenario\n",
    "Total_App_Outsourced_Best = sum(FTE_Staff_Best['App_Outsourced'])\n",
    "Total_Demand_Best = sum(FTE_Staff_Best['Demand'])\n",
    "Percentage_App_Outsourced_Best = round((Total_App_Outsourced_Best/Total_Demand_Best)*100, 2)\n",
    "\n",
    "print(\"Total Number of Outsourced Applications (Best Case): \", Total_App_Outsourced_Best)\n",
    "print(\"Total Demand of Applications: \", Total_Demand_Best)\n",
    "print(\"Percentage of Outsourced Applications (Best Case): \", Percentage_App_Outsourced_Best)"
   ]
  },
  {
   "cell_type": "markdown",
   "metadata": {},
   "source": [
    "#### 3.2.3 Average cost per application"
   ]
  },
  {
   "cell_type": "code",
   "execution_count": 72,
   "metadata": {},
   "outputs": [
    {
     "name": "stdout",
     "output_type": "stream",
     "text": [
      "Average Cost (in $) Per Application (Best Case):  143.42\n"
     ]
    }
   ],
   "source": [
    "# For Best Case Scenario,\n",
    "#Calculating and printing the average cost per application for best-case scenario\n",
    "Average_Cost_Per_App_Best = round(FTE_Staff_Best['Cost Per Application'].mean(),2)\n",
    "print(\"Average Cost (in $) Per Application (Best Case): \", Average_Cost_Per_App_Best)"
   ]
  },
  {
   "cell_type": "markdown",
   "metadata": {},
   "source": [
    "# Question 4\n",
    "\n",
    "#### Creating Visualisations"
   ]
  },
  {
   "cell_type": "markdown",
   "metadata": {},
   "source": [
    "Create the following visualisations using your preferred method (i.e. Python, PowerPoint, Power BI, etc.) and add it to your report. \n",
    "\n",
    "Use the solution of Q2 to create a stacked column chart that shows the percentage of applications processed by the staff and by the vendor for each month (%staff processed applications+ %vendor processed applications should add up to 100%). \n",
    "Create a graph to show how the cost per application increases with respect to any change in the parameters in your analysis.\n",
    "Hint: Use the cost per application that you calculate in Questions 2 and 3 (i.e., the best case, and the worst case). "
   ]
  },
  {
   "cell_type": "markdown",
   "metadata": {},
   "source": [
    "**Note:** You can create the charts in Python or some other visualisation tools and make it a part of your final report directly."
   ]
  },
  {
   "cell_type": "markdown",
   "metadata": {},
   "source": [
    "**Charts are added directly in the report.**"
   ]
  },
  {
   "cell_type": "code",
   "execution_count": null,
   "metadata": {},
   "outputs": [],
   "source": []
  }
 ],
 "metadata": {
  "kernelspec": {
   "display_name": "Python 3",
   "language": "python",
   "name": "python3"
  },
  "language_info": {
   "codemirror_mode": {
    "name": "ipython",
    "version": 3
   },
   "file_extension": ".py",
   "mimetype": "text/x-python",
   "name": "python",
   "nbconvert_exporter": "python",
   "pygments_lexer": "ipython3",
   "version": "3.8.8"
  }
 },
 "nbformat": 4,
 "nbformat_minor": 2
}
